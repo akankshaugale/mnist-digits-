{
  "cells": [
    {
      "cell_type": "code",
      "execution_count": null,
      "id": "df54e8df-e0e5-4e58-a14e-1bf1cbe4d4fa",
      "metadata": {
        "id": "df54e8df-e0e5-4e58-a14e-1bf1cbe4d4fa"
      },
      "outputs": [],
      "source": [
        "import tensorflow as tf\n"
      ]
    },
    {
      "cell_type": "code",
      "execution_count": null,
      "id": "e18cccf7-d636-4913-b22a-b0be807a7d0a",
      "metadata": {
        "id": "e18cccf7-d636-4913-b22a-b0be807a7d0a"
      },
      "outputs": [],
      "source": [
        "# !pip install tensorflow"
      ]
    },
    {
      "cell_type": "code",
      "execution_count": null,
      "id": "180505fd-4749-49dc-98ac-0cfe82bd5e90",
      "metadata": {
        "id": "180505fd-4749-49dc-98ac-0cfe82bd5e90"
      },
      "outputs": [],
      "source": [
        "import pandas as pd\n",
        "import numpy as np\n",
        "import matplotlib.pyplot as plt\n",
        "%matplotlib inline\n",
        "from tensorflow import keras"
      ]
    },
    {
      "cell_type": "code",
      "execution_count": null,
      "id": "34973150-2b93-4053-b934-73aa76a3e633",
      "metadata": {
        "id": "34973150-2b93-4053-b934-73aa76a3e633"
      },
      "outputs": [],
      "source": []
    },
    {
      "cell_type": "code",
      "execution_count": null,
      "id": "6c59a0e0-cf74-4348-8ff8-3768b66d2603",
      "metadata": {
        "colab": {
          "base_uri": "https://localhost:8080/"
        },
        "id": "6c59a0e0-cf74-4348-8ff8-3768b66d2603",
        "outputId": "77c8dbfa-d7a3-49d1-d902-e4152d04d7ec"
      },
      "outputs": [
        {
          "output_type": "stream",
          "name": "stdout",
          "text": [
            "Downloading data from https://storage.googleapis.com/tensorflow/tf-keras-datasets/mnist.npz\n",
            "11490434/11490434 [==============================] - 0s 0us/step\n"
          ]
        }
      ],
      "source": [
        "(X_train,y_train),(X_test,y_test) = keras.datasets.mnist.load_data()"
      ]
    },
    {
      "cell_type": "code",
      "execution_count": null,
      "id": "530175a5-1603-4339-8b10-760ec19785c7",
      "metadata": {
        "colab": {
          "base_uri": "https://localhost:8080/"
        },
        "id": "530175a5-1603-4339-8b10-760ec19785c7",
        "outputId": "8732f9d4-6267-43ea-8213-aee28fa6793c"
      },
      "outputs": [
        {
          "output_type": "execute_result",
          "data": {
            "text/plain": [
              "60000"
            ]
          },
          "metadata": {},
          "execution_count": 5
        }
      ],
      "source": [
        "len(X_train)"
      ]
    },
    {
      "cell_type": "code",
      "execution_count": null,
      "id": "54a32f0d-2744-4de4-b9d0-806cd6fbb34b",
      "metadata": {
        "colab": {
          "base_uri": "https://localhost:8080/"
        },
        "id": "54a32f0d-2744-4de4-b9d0-806cd6fbb34b",
        "outputId": "6e5d1a30-7225-4ae1-d215-509dab7c3bd2"
      },
      "outputs": [
        {
          "output_type": "execute_result",
          "data": {
            "text/plain": [
              "10000"
            ]
          },
          "metadata": {},
          "execution_count": 6
        }
      ],
      "source": [
        "len(X_test)"
      ]
    },
    {
      "cell_type": "code",
      "execution_count": null,
      "id": "234b126c-5295-4bb2-bd0c-6a19ca4d1167",
      "metadata": {
        "colab": {
          "base_uri": "https://localhost:8080/"
        },
        "id": "234b126c-5295-4bb2-bd0c-6a19ca4d1167",
        "outputId": "9f7446ff-86b3-4515-bb77-814798ee5e85"
      },
      "outputs": [
        {
          "output_type": "execute_result",
          "data": {
            "text/plain": [
              "(28, 28)"
            ]
          },
          "metadata": {},
          "execution_count": 7
        }
      ],
      "source": [
        "X_train[0].shape"
      ]
    },
    {
      "cell_type": "code",
      "execution_count": null,
      "id": "3de5f74b-5b69-4c08-ae24-6999a6af7246",
      "metadata": {
        "colab": {
          "base_uri": "https://localhost:8080/"
        },
        "id": "3de5f74b-5b69-4c08-ae24-6999a6af7246",
        "outputId": "b85ddfb3-dce5-407b-9c29-6e82dfd53612"
      },
      "outputs": [
        {
          "output_type": "execute_result",
          "data": {
            "text/plain": [
              "(60000, 28, 28)"
            ]
          },
          "metadata": {},
          "execution_count": 8
        }
      ],
      "source": [
        "X_train.shape"
      ]
    },
    {
      "cell_type": "code",
      "execution_count": null,
      "id": "ae6436b1-db88-4b88-b50e-e96f5072bef8",
      "metadata": {
        "colab": {
          "base_uri": "https://localhost:8080/"
        },
        "id": "ae6436b1-db88-4b88-b50e-e96f5072bef8",
        "outputId": "91ff20e6-e7b6-4414-a66c-5ab2b90f8dc5"
      },
      "outputs": [
        {
          "output_type": "execute_result",
          "data": {
            "text/plain": [
              "47040000"
            ]
          },
          "metadata": {},
          "execution_count": 9
        }
      ],
      "source": [
        "X_train.size"
      ]
    },
    {
      "cell_type": "code",
      "execution_count": null,
      "id": "967af2b0-b33e-4463-8aa8-8f1b8f4aebf7",
      "metadata": {
        "colab": {
          "base_uri": "https://localhost:8080/",
          "height": 292
        },
        "id": "967af2b0-b33e-4463-8aa8-8f1b8f4aebf7",
        "outputId": "3357a4fa-d437-4d86-acf7-1cf8f5188234"
      },
      "outputs": [
        {
          "output_type": "execute_result",
          "data": {
            "text/plain": [
              "<matplotlib.image.AxesImage at 0x7f4e66062a60>"
            ]
          },
          "metadata": {},
          "execution_count": 10
        },
        {
          "output_type": "display_data",
          "data": {
            "text/plain": [
              "<Figure size 288x288 with 1 Axes>"
            ],
            "image/png": "[encoded data removed]"
          },
          "metadata": {
            "needs_background": "light"
          }
        }
      ],
      "source": [
        "plt.matshow(X_train[5])"
      ]
    },
    {
      "cell_type": "code",
      "execution_count": null,
      "id": "e13025e3-eb1f-456f-b6b1-deeecac4906b",
      "metadata": {
        "colab": {
          "base_uri": "https://localhost:8080/"
        },
        "id": "e13025e3-eb1f-456f-b6b1-deeecac4906b",
        "outputId": "04c623ea-eb43-4cc2-b334-41c0c8e4f404"
      },
      "outputs": [
        {
          "output_type": "execute_result",
          "data": {
            "text/plain": [
              "2"
            ]
          },
          "metadata": {},
          "execution_count": 11
        }
      ],
      "source": [
        "y_train[5]"
      ]
    },
    {
      "cell_type": "code",
      "execution_count": null,
      "id": "50776218-208a-4dfe-9697-f4598c25de4e",
      "metadata": {
        "colab": {
          "base_uri": "https://localhost:8080/"
        },
        "id": "50776218-208a-4dfe-9697-f4598c25de4e",
        "outputId": "a55d175c-9f81-4cc0-85c2-ec85ae1ee1fc"
      },
      "outputs": [
        {
          "output_type": "execute_result",
          "data": {
            "text/plain": [
              "array([[  0,   0,   0,   0,   0,   0,   0,   0,   0,   0,   0,   0,   0,\n",
              "          0,   0,   0,   0,   0,   0,   0,   0,   0,   0,   0,   0,   0,\n",
              "          0,   0],\n",
              "       [  0,   0,   0,   0,   0,   0,   0,   0,   0,   0,   0,   0,   0,\n",
              "          0,   0,   0,   0,   0,   0,   0,   0,   0,   0,   0,   0,   0,\n",
              "          0,   0],\n",
              "       [  0,   0,   0,   0,   0,   0,   0,   0,   0,   0,   0,   0,   0,\n",
              "          0,   0,   0,   0,   0,   0,   0,   0,   0,   0,   0,   0,   0,\n",
              "          0,   0],\n",
              "       [  0,   0,   0,   0,   0,   0,   0,   0,   0,   0,   0,   0,   0,\n",
              "          0,   0,   0,   0,   0,   0,   0,   0,   0,   0,   0,   0,   0,\n",
              "          0,   0],\n",
              "       [  0,   0,   0,   0,   0,   0,   0,   0,   0,   0,   0,   0,   0,\n",
              "          0,   0,   0,   0,   0,   0,   0,   0,   0,   0,   0,   0,   0,\n",
              "          0,   0],\n",
              "       [  0,   0,   0,   0,   0,   0,   0,   0,   0,   0,   0,   0,   3,\n",
              "         18,  18,  18, 126, 136, 175,  26, 166, 255, 247, 127,   0,   0,\n",
              "          0,   0],\n",
              "       [  0,   0,   0,   0,   0,   0,   0,   0,  30,  36,  94, 154, 170,\n",
              "        253, 253, 253, 253, 253, 225, 172, 253, 242, 195,  64,   0,   0,\n",
              "          0,   0],\n",
              "       [  0,   0,   0,   0,   0,   0,   0,  49, 238, 253, 253, 253, 253,\n",
              "        253, 253, 253, 253, 251,  93,  82,  82,  56,  39,   0,   0,   0,\n",
              "          0,   0],\n",
              "       [  0,   0,   0,   0,   0,   0,   0,  18, 219, 253, 253, 253, 253,\n",
              "        253, 198, 182, 247, 241,   0,   0,   0,   0,   0,   0,   0,   0,\n",
              "          0,   0],\n",
              "       [  0,   0,   0,   0,   0,   0,   0,   0,  80, 156, 107, 253, 253,\n",
              "        205,  11,   0,  43, 154,   0,   0,   0,   0,   0,   0,   0,   0,\n",
              "          0,   0],\n",
              "       [  0,   0,   0,   0,   0,   0,   0,   0,   0,  14,   1, 154, 253,\n",
              "         90,   0,   0,   0,   0,   0,   0,   0,   0,   0,   0,   0,   0,\n",
              "          0,   0],\n",
              "       [  0,   0,   0,   0,   0,   0,   0,   0,   0,   0,   0, 139, 253,\n",
              "        190,   2,   0,   0,   0,   0,   0,   0,   0,   0,   0,   0,   0,\n",
              "          0,   0],\n",
              "       [  0,   0,   0,   0,   0,   0,   0,   0,   0,   0,   0,  11, 190,\n",
              "        253,  70,   0,   0,   0,   0,   0,   0,   0,   0,   0,   0,   0,\n",
              "          0,   0],\n",
              "       [  0,   0,   0,   0,   0,   0,   0,   0,   0,   0,   0,   0,  35,\n",
              "        241, 225, 160, 108,   1,   0,   0,   0,   0,   0,   0,   0,   0,\n",
              "          0,   0],\n",
              "       [  0,   0,   0,   0,   0,   0,   0,   0,   0,   0,   0,   0,   0,\n",
              "         81, 240, 253, 253, 119,  25,   0,   0,   0,   0,   0,   0,   0,\n",
              "          0,   0],\n",
              "       [  0,   0,   0,   0,   0,   0,   0,   0,   0,   0,   0,   0,   0,\n",
              "          0,  45, 186, 253, 253, 150,  27,   0,   0,   0,   0,   0,   0,\n",
              "          0,   0],\n",
              "       [  0,   0,   0,   0,   0,   0,   0,   0,   0,   0,   0,   0,   0,\n",
              "          0,   0,  16,  93, 252, 253, 187,   0,   0,   0,   0,   0,   0,\n",
              "          0,   0],\n",
              "       [  0,   0,   0,   0,   0,   0,   0,   0,   0,   0,   0,   0,   0,\n",
              "          0,   0,   0,   0, 249, 253, 249,  64,   0,   0,   0,   0,   0,\n",
              "          0,   0],\n",
              "       [  0,   0,   0,   0,   0,   0,   0,   0,   0,   0,   0,   0,   0,\n",
              "          0,  46, 130, 183, 253, 253, 207,   2,   0,   0,   0,   0,   0,\n",
              "          0,   0],\n",
              "       [  0,   0,   0,   0,   0,   0,   0,   0,   0,   0,   0,   0,  39,\n",
              "        148, 229, 253, 253, 253, 250, 182,   0,   0,   0,   0,   0,   0,\n",
              "          0,   0],\n",
              "       [  0,   0,   0,   0,   0,   0,   0,   0,   0,   0,  24, 114, 221,\n",
              "        253, 253, 253, 253, 201,  78,   0,   0,   0,   0,   0,   0,   0,\n",
              "          0,   0],\n",
              "       [  0,   0,   0,   0,   0,   0,   0,   0,  23,  66, 213, 253, 253,\n",
              "        253, 253, 198,  81,   2,   0,   0,   0,   0,   0,   0,   0,   0,\n",
              "          0,   0],\n",
              "       [  0,   0,   0,   0,   0,   0,  18, 171, 219, 253, 253, 253, 253,\n",
              "        195,  80,   9,   0,   0,   0,   0,   0,   0,   0,   0,   0,   0,\n",
              "          0,   0],\n",
              "       [  0,   0,   0,   0,  55, 172, 226, 253, 253, 253, 253, 244, 133,\n",
              "         11,   0,   0,   0,   0,   0,   0,   0,   0,   0,   0,   0,   0,\n",
              "          0,   0],\n",
              "       [  0,   0,   0,   0, 136, 253, 253, 253, 212, 135, 132,  16,   0,\n",
              "          0,   0,   0,   0,   0,   0,   0,   0,   0,   0,   0,   0,   0,\n",
              "          0,   0],\n",
              "       [  0,   0,   0,   0,   0,   0,   0,   0,   0,   0,   0,   0,   0,\n",
              "          0,   0,   0,   0,   0,   0,   0,   0,   0,   0,   0,   0,   0,\n",
              "          0,   0],\n",
              "       [  0,   0,   0,   0,   0,   0,   0,   0,   0,   0,   0,   0,   0,\n",
              "          0,   0,   0,   0,   0,   0,   0,   0,   0,   0,   0,   0,   0,\n",
              "          0,   0],\n",
              "       [  0,   0,   0,   0,   0,   0,   0,   0,   0,   0,   0,   0,   0,\n",
              "          0,   0,   0,   0,   0,   0,   0,   0,   0,   0,   0,   0,   0,\n",
              "          0,   0]], dtype=uint8)"
            ]
          },
          "metadata": {},
          "execution_count": 12
        }
      ],
      "source": [
        "X_train[0]"
      ]
    },
    {
      "cell_type": "markdown",
      "id": "720c463b-09c2-456b-94b0-666d4124f30f",
      "metadata": {
        "id": "720c463b-09c2-456b-94b0-666d4124f30f"
      },
      "source": [
        "## Step 2: Data Standardization"
      ]
    },
    {
      "cell_type": "code",
      "execution_count": null,
      "id": "e81e616a-89ce-47fc-80b7-cd348eb3d7a5",
      "metadata": {
        "id": "e81e616a-89ce-47fc-80b7-cd348eb3d7a5"
      },
      "outputs": [],
      "source": [
        "X_train = X_train/255\n",
        "X_test = X_test/255"
      ]
    },
    {
      "cell_type": "markdown",
      "id": "415e6c69-f55e-4378-a2d2-28251a55e354",
      "metadata": {
        "id": "415e6c69-f55e-4378-a2d2-28251a55e354"
      },
      "source": [
        "## Step 3 Image falattening"
      ]
    },
    {
      "cell_type": "raw",
      "id": "ddc4a80e-64f4-4faf-9c3c-b2703ed1d477",
      "metadata": {
        "id": "ddc4a80e-64f4-4faf-9c3c-b2703ed1d477"
      },
      "source": [
        "X_train_faltten = X_train.reshape(len(X_train),28*28)\n",
        "X_train_faltten.shape"
      ]
    },
    {
      "cell_type": "raw",
      "id": "46733cbd-67e8-4214-94cc-869a986b75db",
      "metadata": {
        "id": "46733cbd-67e8-4214-94cc-869a986b75db"
      },
      "source": [
        "X_test_faltten = X_test.reshape(len(X_test),28*28)\n",
        "X_test_faltten.shape\n",
        "X_test_faltten"
      ]
    },
    {
      "cell_type": "markdown",
      "id": "cb247fdf-6877-42f5-9dee-213b6db4c129",
      "metadata": {
        "id": "cb247fdf-6877-42f5-9dee-213b6db4c129"
      },
      "source": [
        "## step 4 Create NN model"
      ]
    },
    {
      "cell_type": "raw",
      "id": "1c54a4e0-0768-423e-8664-18264b79f587",
      "metadata": {
        "id": "1c54a4e0-0768-423e-8664-18264b79f587"
      },
      "source": [
        "model = keras.Sequential(\n",
        "    [keras.layers.Dense(600,input_shape = (784,),activation = 'relu'),\n",
        "     keras.layers.Dense(100,input_shape = (784,),activation = 'relu'),\n",
        "     keras.layers.Dense(10,input_shape = (784,),activation = 'sigmoid')]\n",
        ")\n",
        "\n",
        "# loss = for  multiclass classificattion = 'sparse_categoorical_crossentropy'\n",
        "# loss = for binary classification = 'categorical_crossentropy'\n",
        "\n",
        "# compile your model\n",
        "model.compile(optimizer = 'adam',\n",
        "             loss = 'sparse_categorical_crossentropy',\n",
        "             metrics = ['accuracy'])\n",
        "model.fit(X_train_faltten,y_train,epochs = 5)\n",
        "model.evaluate(X_test_faltten,y_test)"
      ]
    },
    {
      "cell_type": "code",
      "execution_count": null,
      "id": "0543fbd1-0d3a-4d09-b8f1-7ba61d2f8670",
      "metadata": {
        "colab": {
          "base_uri": "https://localhost:8080/"
        },
        "id": "0543fbd1-0d3a-4d09-b8f1-7ba61d2f8670",
        "outputId": "f97ae365-0e65-42c1-ce26-02f7964b6191"
      },
      "outputs": [
        {
          "output_type": "stream",
          "name": "stdout",
          "text": [
            "Epoch 1/5\n",
            "1875/1875 [==============================] - 16s 8ms/step - loss: 0.1882 - accuracy: 0.9434\n",
            "Epoch 2/5\n",
            "1875/1875 [==============================] - 21s 11ms/step - loss: 0.0803 - accuracy: 0.9748\n",
            "Epoch 3/5\n",
            "1875/1875 [==============================] - 12s 7ms/step - loss: 0.0539 - accuracy: 0.9829\n",
            "Epoch 4/5\n",
            "1875/1875 [==============================] - 11s 6ms/step - loss: 0.0418 - accuracy: 0.9867\n",
            "Epoch 5/5\n",
            "1875/1875 [==============================] - 11s 6ms/step - loss: 0.0326 - accuracy: 0.9895\n",
            "313/313 [==============================] - 1s 3ms/step - loss: 0.0885 - accuracy: 0.9738\n"
          ]
        },
        {
          "output_type": "execute_result",
          "data": {
            "text/plain": [
              "[0.08854503929615021, 0.973800003528595]"
            ]
          },
          "metadata": {},
          "execution_count": 14
        }
      ],
      "source": [
        "model = keras.Sequential([\n",
        "    keras.layers.Flatten(input_shape = (28,28)),\n",
        "    keras.layers.Dense(600,activation = 'relu'),\n",
        "     keras.layers.Dense(100,activation = 'relu'),\n",
        "     keras.layers.Dense(10,activation = 'sigmoid')]\n",
        ")\n",
        "\n",
        "# loss = for  multiclass classificattion = 'sparse_categoorical_crossentropy'\n",
        "# loss = for binary classification = 'categorical_crossentropy'\n",
        "\n",
        "# compile your model\n",
        "model.compile(optimizer = 'adam',\n",
        "             loss = 'sparse_categorical_crossentropy',\n",
        "             metrics = ['accuracy'])\n",
        "model.fit(X_train,y_train,epochs = 5)\n",
        "model.evaluate(X_test,y_test)"
      ]
    },
    {
      "cell_type": "code",
      "execution_count": null,
      "id": "3ffc8e3a-45ea-4139-ba12-e4cab3a83d61",
      "metadata": {
        "colab": {
          "base_uri": "https://localhost:8080/"
        },
        "id": "3ffc8e3a-45ea-4139-ba12-e4cab3a83d61",
        "outputId": "9d142285-6c14-46dd-a18c-4410eb43bb3d"
      },
      "outputs": [
        {
          "output_type": "stream",
          "name": "stdout",
          "text": [
            "Model: \"sequential\"\n",
            "_________________________________________________________________\n",
            " Layer (type)                Output Shape              Param #   \n",
            "=================================================================\n",
            " flatten (Flatten)           (None, 784)               0         \n",
            "                                                                 \n",
            " dense (Dense)               (None, 600)               471000    \n",
            "                                                                 \n",
            " dense_1 (Dense)             (None, 100)               60100     \n",
            "                                                                 \n",
            " dense_2 (Dense)             (None, 10)                1010      \n",
            "                                                                 \n",
            "=================================================================\n",
            "Total params: 532,110\n",
            "Trainable params: 532,110\n",
            "Non-trainable params: 0\n",
            "_________________________________________________________________\n"
          ]
        }
      ],
      "source": [
        "model.summary()"
      ]
    },
    {
      "cell_type": "markdown",
      "id": "221253cf-fbc0-4204-96e0-e87d3a37a263",
      "metadata": {
        "id": "221253cf-fbc0-4204-96e0-e87d3a37a263"
      },
      "source": [
        "params is neuron you have created"
      ]
    },
    {
      "cell_type": "code",
      "execution_count": null,
      "id": "b27d54c7-b433-4737-a64d-bf6d5be211de",
      "metadata": {
        "colab": {
          "base_uri": "https://localhost:8080/",
          "height": 292
        },
        "id": "b27d54c7-b433-4737-a64d-bf6d5be211de",
        "outputId": "ebb663bc-4341-46dc-d79c-e58d6dd050af"
      },
      "outputs": [
        {
          "output_type": "execute_result",
          "data": {
            "text/plain": [
              "<matplotlib.image.AxesImage at 0x7f4e61493700>"
            ]
          },
          "metadata": {},
          "execution_count": 16
        },
        {
          "output_type": "display_data",
          "data": {
            "text/plain": [
              "<Figure size 288x288 with 1 Axes>"
            ],
            "image/png": "[encoded data removed]"
          },
          "metadata": {
            "needs_background": "light"
          }
        }
      ],
      "source": [
        "plt.matshow(X_test[0])"
      ]
    },
    {
      "cell_type": "code",
      "execution_count": null,
      "id": "5170fec3-c78a-409a-b5a8-8c7bd29b3146",
      "metadata": {
        "colab": {
          "base_uri": "https://localhost:8080/"
        },
        "id": "5170fec3-c78a-409a-b5a8-8c7bd29b3146",
        "outputId": "8a1f7a55-d352-48c5-d9bf-02912c4ab128"
      },
      "outputs": [
        {
          "output_type": "execute_result",
          "data": {
            "text/plain": [
              "7"
            ]
          },
          "metadata": {},
          "execution_count": 17
        }
      ],
      "source": [
        "y_test[0]"
      ]
    },
    {
      "cell_type": "code",
      "execution_count": null,
      "id": "81b7e0a5-9811-42bd-96da-683a7949e006",
      "metadata": {
        "colab": {
          "base_uri": "https://localhost:8080/"
        },
        "id": "81b7e0a5-9811-42bd-96da-683a7949e006",
        "outputId": "1d08ef65-cdc7-4678-d603-ffa9754b4f5d"
      },
      "outputs": [
        {
          "output_type": "execute_result",
          "data": {
            "text/plain": [
              "array([7, 2, 1, 0, 4], dtype=uint8)"
            ]
          },
          "metadata": {},
          "execution_count": 18
        }
      ],
      "source": [
        "y_test[:5]"
      ]
    },
    {
      "cell_type": "code",
      "execution_count": null,
      "id": "82ce1d35-ab69-4d6d-8433-ab62f69d2f82",
      "metadata": {
        "colab": {
          "base_uri": "https://localhost:8080/"
        },
        "id": "82ce1d35-ab69-4d6d-8433-ab62f69d2f82",
        "outputId": "60a4a85e-3d81-4f58-8442-9ce47a9a5de9"
      },
      "outputs": [
        {
          "output_type": "stream",
          "name": "stdout",
          "text": [
            "313/313 [==============================] - 1s 3ms/step\n"
          ]
        }
      ],
      "source": [
        "y_predict = model.predict(X_test)"
      ]
    },
    {
      "cell_type": "code",
      "execution_count": null,
      "id": "1077bdb9-5c10-4219-93fa-cade3b8f6ea1",
      "metadata": {
        "colab": {
          "base_uri": "https://localhost:8080/"
        },
        "id": "1077bdb9-5c10-4219-93fa-cade3b8f6ea1",
        "outputId": "a64cb5ae-175a-40ce-b54f-e82f75c23807"
      },
      "outputs": [
        {
          "output_type": "execute_result",
          "data": {
            "text/plain": [
              "array([2.1050739e-04, 3.4057072e-03, 1.0372237e-02, 4.1796130e-04,\n",
              "       9.9999225e-01, 1.3032938e-04, 3.4874122e-04, 5.7036465e-01,\n",
              "       8.8065531e-04, 9.9991775e-01], dtype=float32)"
            ]
          },
          "metadata": {},
          "execution_count": 21
        }
      ],
      "source": [
        "y_predict[4]"
      ]
    },
    {
      "cell_type": "code",
      "execution_count": null,
      "id": "7b0af628-3f12-421c-97d8-1e7836e5a5d2",
      "metadata": {
        "colab": {
          "base_uri": "https://localhost:8080/"
        },
        "id": "7b0af628-3f12-421c-97d8-1e7836e5a5d2",
        "outputId": "47cb7913-daad-4930-d2b7-a6c63e2b59c8"
      },
      "outputs": [
        {
          "output_type": "execute_result",
          "data": {
            "text/plain": [
              "4"
            ]
          },
          "metadata": {},
          "execution_count": 22
        }
      ],
      "source": [
        "np.argmax(y_predict[4])"
      ]
    },
    {
      "cell_type": "code",
      "execution_count": null,
      "id": "50ea5d6e-b3d7-443d-9ef1-c2f008adbd56",
      "metadata": {
        "id": "50ea5d6e-b3d7-443d-9ef1-c2f008adbd56"
      },
      "outputs": [],
      "source": [
        "y_pred = [np.argmax(i) for i in y_predict]"
      ]
    },
    {
      "cell_type": "code",
      "execution_count": null,
      "id": "d276cdb2-c879-4a0a-8a88-92185d400e41",
      "metadata": {
        "tags": [],
        "colab": {
          "base_uri": "https://localhost:8080/"
        },
        "id": "d276cdb2-c879-4a0a-8a88-92185d400e41",
        "outputId": "f6b4a192-666e-4369-fb92-a3062eb38f7d"
      },
      "outputs": [
        {
          "output_type": "stream",
          "name": "stdout",
          "text": [
            "              precision    recall  f1-score   support\n",
            "\n",
            "           0       1.00      0.95      0.97       980\n",
            "           1       0.99      0.99      0.99      1135\n",
            "           2       0.98      0.97      0.97      1032\n",
            "           3       0.99      0.97      0.98      1010\n",
            "           4       0.98      0.97      0.98       982\n",
            "           5       0.95      0.99      0.97       892\n",
            "           6       1.00      0.96      0.98       958\n",
            "           7       0.97      0.98      0.97      1028\n",
            "           8       0.97      0.98      0.98       974\n",
            "           9       0.92      0.98      0.95      1009\n",
            "\n",
            "    accuracy                           0.97     10000\n",
            "   macro avg       0.97      0.97      0.97     10000\n",
            "weighted avg       0.97      0.97      0.97     10000\n",
            "\n"
          ]
        }
      ],
      "source": [
        "# accuracy measures by classification_report()\n",
        "from sklearn.metrics import classification_report\n",
        "result = classification_report(y_test,y_pred)\n",
        "\n",
        "# print the result\n",
        "print(result)"
      ]
    },
    {
      "cell_type": "code",
      "execution_count": null,
      "id": "afba1530-b7df-4d69-80a3-f5a6637b93ff",
      "metadata": {
        "colab": {
          "base_uri": "https://localhost:8080/"
        },
        "id": "afba1530-b7df-4d69-80a3-f5a6637b93ff",
        "outputId": "e382d932-ccaa-4c8d-c2bc-d86c55f1c931"
      },
      "outputs": [
        {
          "output_type": "execute_result",
          "data": {
            "text/plain": [
              "<tf.Tensor: shape=(10, 10), dtype=int32, numpy=\n",
              "array([[ 929,    1,    5,    1,    3,    4,    0,    2,    2,   33],\n",
              "       [   0, 1128,    0,    0,    0,    2,    2,    1,    2,    0],\n",
              "       [   0,    3,  999,    5,    2,    0,    1,   15,    6,    1],\n",
              "       [   0,    0,    4,  976,    0,    9,    0,    6,    3,   12],\n",
              "       [   0,    0,    5,    0,  954,    1,    1,    2,    0,   19],\n",
              "       [   1,    0,    0,    4,    1,  879,    0,    0,    4,    3],\n",
              "       [   2,    2,    3,    1,    7,   18,  920,    0,    3,    2],\n",
              "       [   0,    2,    4,    0,    3,    0,    0, 1007,    2,   10],\n",
              "       [   0,    0,    4,    2,    0,    8,    0,    3,  953,    4],\n",
              "       [   0,    2,    0,    1,    3,    3,    0,    2,    5,  993]],\n",
              "      dtype=int32)>"
            ]
          },
          "metadata": {},
          "execution_count": 27
        }
      ],
      "source": [
        "# import the metrics class\n",
        "from sklearn.metrics import confusion_matrix \n",
        "cnf_matrix = tf.math.confusion_matrix(labels= y_test,predictions = y_pred)\n",
        "cnf_matrix"
      ]
    },
    {
      "cell_type": "code",
      "execution_count": null,
      "id": "6eabd40f-64b1-4af1-92f7-02a8fe7dd868",
      "metadata": {
        "colab": {
          "base_uri": "https://localhost:8080/",
          "height": 623
        },
        "id": "6eabd40f-64b1-4af1-92f7-02a8fe7dd868",
        "outputId": "c251d185-16b6-4dd8-a9b1-1b23752bee93"
      },
      "outputs": [
        {
          "output_type": "execute_result",
          "data": {
            "text/plain": [
              "Text(69.0, 0.5, 'Actual')"
            ]
          },
          "metadata": {},
          "execution_count": 28
        },
        {
          "output_type": "display_data",
          "data": {
            "text/plain": [
              "<Figure size 720x720 with 2 Axes>"
            ],
            "image/png": "[encoded data removed]"
          },
          "metadata": {
            "needs_background": "light"
          }
        }
      ],
      "source": [
        "import seaborn as sns\n",
        "plt.figure(figsize = (10,10))\n",
        "sns.heatmap(cnf_matrix,annot = True,fmt = 'd')\n",
        "plt.xlabel('predicted')\n",
        "plt.ylabel('Actual')"
      ]
    },
    {
      "cell_type": "markdown",
      "id": "687f1477-bccc-4dd0-ab0b-586b863d8309",
      "metadata": {
        "id": "687f1477-bccc-4dd0-ab0b-586b863d8309"
      },
      "source": [
        "### so from heatmap we can see how many misclassification has shown in this report"
      ]
    },
    {
      "cell_type": "code",
      "execution_count": null,
      "id": "6ee20291-157c-4a2c-ac69-43cfcccfffdf",
      "metadata": {
        "id": "6ee20291-157c-4a2c-ac69-43cfcccfffdf"
      },
      "outputs": [],
      "source": []
    }
  ],
  "metadata": {
    "kernelspec": {
      "display_name": "Python 3 (ipykernel)",
      "language": "python",
      "name": "python3"
    },
    "language_info": {
      "codemirror_mode": {
        "name": "ipython",
        "version": 3
      },
      "file_extension": ".py",
      "mimetype": "text/x-python",
      "name": "python",
      "nbconvert_exporter": "python",
      "pygments_lexer": "ipython3",
      "version": "3.9.13"
    },
    "colab": {
      "provenance": []
    }
  },
  "nbformat": 4,
  "nbformat_minor": 5
}